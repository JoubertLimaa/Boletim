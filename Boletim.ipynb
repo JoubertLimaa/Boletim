{
 "cells": [
  {
   "cell_type": "code",
   "execution_count": 3,
   "id": "e8bcc3bf-c5f6-4a86-b599-474ba3a01912",
   "metadata": {},
   "outputs": [
    {
     "name": "stdin",
     "output_type": "stream",
     "text": [
      "DIGITE O NOME DO ALUNO:  Joubert\n",
      "DIGITE A NOTA DO PRIMEIRO BIMESTRE:  8\n",
      "DIGITE A NOTA DO SEGUNDO BIMESTRE:  9\n",
      "DIGITE A NOTA DO TERCEIRO BIMESTRE:  6\n",
      "DIGITE A NOTA DO QUARTO BIMESTRE:  7\n"
     ]
    },
    {
     "name": "stdout",
     "output_type": "stream",
     "text": [
      "Salvo com Sucesso no arquivo notas_alunos.xlsx \n"
     ]
    }
   ],
   "source": [
    "\n",
    "import openpyxl\n",
    "\n",
    "# Função para criar ou carregar um arquivo Excel\n",
    "def salvar_em_excel(nome_aluno, nota1, nota2, nota3, nota4, media, situacao):\n",
    "    # Nome do arquivo Excel\n",
    "    nome_arquivo = 'notas_alunos.xlsx'\n",
    "\n",
    "    try:\n",
    "        # Tenta carregar o arquivo existente\n",
    "        wb = openpyxl.load_workbook(nome_arquivo)\n",
    "    except FileNotFoundError:\n",
    "        # Se o arquivo não existe, cria um novo\n",
    "        wb = openpyxl.Workbook()\n",
    "\n",
    "    # Seleciona a primeira planilha\n",
    "    planilha = wb.active\n",
    "\n",
    "    # Adiciona cabeçalhos se a planilha estiver vazia\n",
    "    if planilha.max_row == 1:\n",
    "        planilha.append(['Nome do Aluno', 'Nota Bimestre 1', 'Nota Bimestre 2', 'Nota Bimestre 3', 'Nota Bimestre 4', 'Média', 'Situação'])\n",
    "\n",
    "    # Adiciona os dados do aluno\n",
    "    planilha.append([nome_aluno, nota1, nota2, nota3, nota4, media, situacao])\n",
    "\n",
    "    # Salva as alterações no arquivo Excel\n",
    "    wb.save(nome_arquivo)\n",
    "    \n",
    "# Solicita o nome do aluno\n",
    "nome_aluno = input(\"DIGITE O NOME DO ALUNO: \")\n",
    "\n",
    "# Solicita as notas dos bimestres\n",
    "nota1 = float(input(\"DIGITE A NOTA DO PRIMEIRO BIMESTRE: \"))\n",
    "nota2 = float(input(\"DIGITE A NOTA DO SEGUNDO BIMESTRE: \"))\n",
    "nota3 = float(input(\"DIGITE A NOTA DO TERCEIRO BIMESTRE: \"))\n",
    "nota4 = float(input(\"DIGITE A NOTA DO QUARTO BIMESTRE: \"))\n",
    "\n",
    "\n",
    "# Calcula a média\n",
    "media = (nota1 + nota2 + nota3 + nota4) / 4\n",
    "\n",
    "\n",
    "# Verifica se o aluno foi aprovado ou reprovado\n",
    "if media >= 6:\n",
    "    situacao= \"Aprovado\"\n",
    "else:\n",
    "    situacao = \"Reprovado\"        \n",
    "    \n",
    "salvar_em_excel(nome_aluno, nota1, nota2, nota3, nota4, media, situacao)\n",
    "print ( \"Salvo com Sucesso no arquivo notas_alunos.xlsx \")\n",
    "\n"
   ]
  },
  {
   "cell_type": "code",
   "execution_count": null,
   "id": "b9c50082-fb1b-4e79-a5f4-e63b92138a93",
   "metadata": {},
   "outputs": [],
   "source": [
    "\n",
    "\n"
   ]
  }
 ],
 "metadata": {
  "kernelspec": {
   "display_name": "Python 3 (ipykernel)",
   "language": "python",
   "name": "python3"
  },
  "language_info": {
   "codemirror_mode": {
    "name": "ipython",
    "version": 3
   },
   "file_extension": ".py",
   "mimetype": "text/x-python",
   "name": "python",
   "nbconvert_exporter": "python",
   "pygments_lexer": "ipython3",
   "version": "3.12.4"
  }
 },
 "nbformat": 4,
 "nbformat_minor": 5
}
